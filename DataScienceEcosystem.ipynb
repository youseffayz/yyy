{
 "cells": [
  {
   "cell_type": "markdown",
   "id": "f72b918e-035b-4410-8d27-e39ee4027562",
   "metadata": {},
   "source": [
    "# Data Science Tools and Ecosystem\n"
   ]
  },
  {
   "cell_type": "markdown",
   "id": "4d292d47-382c-443b-b701-3f55e4b04722",
   "metadata": {},
   "source": [
    "## In this notebook, Data Science Tools and Ecosystem are summarized\n"
   ]
  },
  {
   "cell_type": "markdown",
   "id": "2ef00a2b-1a11-4c55-9324-91092f6e2c7e",
   "metadata": {},
   "source": [
    "### Some of the popular languages that Data Scientists use are:\n",
    "1. python\n",
    "2. R\n",
    "3. SQL "
   ]
  },
  {
   "cell_type": "markdown",
   "id": "50654536-fc02-4c98-82d4-7f84c970b053",
   "metadata": {},
   "source": [
    "### Some of the commonly used libraries used by Data Scientists include:\n",
    "1. pandas\n",
    "2. numpay\n",
    "3. Matplotlib\n",
    "   "
   ]
  },
  {
   "cell_type": "markdown",
   "id": "f20f9ad7-fc5e-4e92-9ce1-59bd9d5aea48",
   "metadata": {},
   "source": [
    "### three development environment open source tools\n",
    "| Data Science Tools |\n",
    "|----------|\n",
    "| tensorflow|\n",
    "| R studio|\n",
    "| Jupyter Notebooks |"
   ]
  },
  {
   "cell_type": "markdown",
   "id": "194fc47b-48d5-4953-add3-82dae44099ab",
   "metadata": {},
   "source": [
    "### Below are a few examples of evaluating arithmetic expressions in Python."
   ]
  },
  {
   "cell_type": "code",
   "execution_count": 1,
   "id": "2aae83f3-f2ad-4885-9207-d59b03373025",
   "metadata": {},
   "outputs": [
    {
     "data": {
      "text/plain": [
       "17"
      ]
     },
     "execution_count": 1,
     "metadata": {},
     "output_type": "execute_result"
    }
   ],
   "source": [
    "#This a simple arithmetic expression to mutiply then add integers\n",
    "\n",
    "(3*4)+5 "
   ]
  },
  {
   "cell_type": "code",
   "execution_count": 7,
   "id": "965c28c9-9cb6-4ee8-a063-f05ee7447d5c",
   "metadata": {},
   "outputs": [
    {
     "data": {
      "text/plain": [
       "3.3333333333333335"
      ]
     },
     "execution_count": 7,
     "metadata": {},
     "output_type": "execute_result"
    }
   ],
   "source": [
    "#a code cell to convert minutes to hours\n",
    "200/60 "
   ]
  },
  {
   "cell_type": "markdown",
   "id": "3db73850-4865-419e-8126-ec105695b9f4",
   "metadata": {},
   "source": [
    "### Objectives\n",
    "* libraries\n",
    "* lab\n",
    "* good learning"
   ]
  },
  {
   "cell_type": "markdown",
   "id": "8eddc150-ec81-4608-a1a7-9601bc4028c6",
   "metadata": {},
   "source": [
    "## author\n",
    "Yousef fayz"
   ]
  },
  {
   "cell_type": "code",
   "execution_count": null,
   "id": "8ae7c56c-af51-405b-a239-58b77743ac0d",
   "metadata": {},
   "outputs": [],
   "source": []
  }
 ],
 "metadata": {
  "kernelspec": {
   "display_name": "Python 3 (ipykernel)",
   "language": "python",
   "name": "python3"
  },
  "language_info": {
   "codemirror_mode": {
    "name": "ipython",
    "version": 3
   },
   "file_extension": ".py",
   "mimetype": "text/x-python",
   "name": "python",
   "nbconvert_exporter": "python",
   "pygments_lexer": "ipython3",
   "version": "3.12.4"
  }
 },
 "nbformat": 4,
 "nbformat_minor": 5
}
